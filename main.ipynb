{
 "cells": [
  {
   "cell_type": "code",
   "execution_count": 21,
   "metadata": {},
   "outputs": [],
   "source": [
    "import os\n",
    "import csv\n",
    "import numpy as np\n",
    "import tensorflow as tf\n",
    "from tensorflow import keras\n",
    "from tqdm import tqdm\n",
    "from matplotlib import pyplot as plt\n",
    "from PIL import Image\n",
    "import cv2\n",
    "#import matplotlib.patches as patches"
   ]
  },
  {
   "cell_type": "code",
   "execution_count": 22,
   "metadata": {},
   "outputs": [],
   "source": [
    "def Dataset_loader(DIR, RESIZE, sigmaX=10):\n",
    "    IMG = []\n",
    "    read = lambda imname: np.asarray(Image.open(imname).convert(\"RGB\"))\n",
    "    for IMAGE_NAME in tqdm(os.listdir(DIR)):\n",
    "        PATH = os.path.join(DIR,IMAGE_NAME)\n",
    "        _, ftype = os.path.splitext(PATH)\n",
    "        if ftype == \".png\":\n",
    "            img = read(PATH)\n",
    "           \n",
    "            img = cv2.resize(img, (RESIZE,RESIZE))\n",
    "            img = cv2.cvtColor(img, cv2.COLOR_BGR2GRAY)\n",
    "           \n",
    "            IMG.append(np.array(img))\n",
    "    return IMG"
   ]
  },
  {
   "cell_type": "code",
   "execution_count": 23,
   "metadata": {},
   "outputs": [
    {
     "name": "stderr",
     "output_type": "stream",
     "text": [
      "100%|██████████| 7658/7658 [00:13<00:00, 575.85it/s]\n",
      "100%|██████████| 7208/7208 [00:12<00:00, 588.86it/s]\n",
      "100%|██████████| 6849/6849 [00:11<00:00, 609.18it/s]\n"
     ]
    }
   ],
   "source": [
    "x_covid19_train = np.array(Dataset_loader(r\"C:\\Users\\sbagh\\Downloads\\fcomp\\Lung Segmentation Data\\Lung Segmentation Data\\Train\\COVID-19\\lung masks\",224))\n",
    "x_noncovid_train = np.array(Dataset_loader(r\"C:\\Users\\sbagh\\Downloads\\fcomp\\Lung Segmentation Data\\Lung Segmentation Data\\Train\\Non-COVID\\lung masks\",224))\n",
    "x_normal_train = np.array(Dataset_loader(r\"C:\\Users\\sbagh\\Downloads\\fcomp\\Lung Segmentation Data\\Lung Segmentation Data\\Train\\Normal\\lung masks\",224))\n"
   ]
  },
  {
   "cell_type": "code",
   "execution_count": null,
   "metadata": {},
   "outputs": [],
   "source": [
    "x_covid19_train.shape\n",
    "#plt.imshow(x_covid19_train[5])"
   ]
  },
  {
   "cell_type": "code",
   "execution_count": 24,
   "metadata": {},
   "outputs": [
    {
     "name": "stderr",
     "output_type": "stream",
     "text": [
      "100%|██████████| 1903/1903 [00:03<00:00, 593.89it/s]\n",
      "100%|██████████| 1802/1802 [00:02<00:00, 617.46it/s]\n",
      "100%|██████████| 1712/1712 [00:02<00:00, 588.47it/s]\n"
     ]
    }
   ],
   "source": [
    "x_covid19_val = np.array(Dataset_loader(r\"C:\\Users\\sbagh\\Downloads\\fcomp\\Lung Segmentation Data\\Lung Segmentation Data\\Val\\COVID-19\\lung masks\",224))\n",
    "x_noncovid_val = np.array(Dataset_loader(r\"C:\\Users\\sbagh\\Downloads\\fcomp\\Lung Segmentation Data\\Lung Segmentation Data\\Val\\Non-COVID\\lung masks\",224))\n",
    "x_normal_val = np.array(Dataset_loader(r\"C:\\Users\\sbagh\\Downloads\\fcomp\\Lung Segmentation Data\\Lung Segmentation Data\\Val\\Normal\\lung masks\",224))\n"
   ]
  },
  {
   "cell_type": "code",
   "execution_count": 25,
   "metadata": {},
   "outputs": [
    {
     "name": "stderr",
     "output_type": "stream",
     "text": [
      "100%|██████████| 2395/2395 [00:04<00:00, 569.94it/s]\n",
      "100%|██████████| 2253/2253 [00:02<00:00, 764.60it/s]\n",
      "100%|██████████| 2140/2140 [00:03<00:00, 626.00it/s]\n"
     ]
    }
   ],
   "source": [
    "#Xtest\n",
    "x_covid19_test = np.array(Dataset_loader(r\"C:\\Users\\sbagh\\Downloads\\fcomp\\Lung Segmentation Data\\Lung Segmentation Data\\Test\\COVID-19\\lung masks\",224))\n",
    "x_noncovid_test = np.array(Dataset_loader(r\"C:\\Users\\sbagh\\Downloads\\fcomp\\Lung Segmentation Data\\Lung Segmentation Data\\Test\\Non-COVID\\lung masks\",224))\n",
    "x_normal_test = np.array(Dataset_loader(r\"C:\\Users\\sbagh\\Downloads\\fcomp\\Lung Segmentation Data\\Lung Segmentation Data\\Test\\Normal\\lung masks\",224))\n"
   ]
  },
  {
   "cell_type": "code",
   "execution_count": 26,
   "metadata": {},
   "outputs": [],
   "source": [
    "ytrain_covid19= np.zeros(len(x_covid19_train))\n",
    "ytrain_noncovid = np.ones(len(x_noncovid_train))\n",
    "ytrain_normal = (np.ones(len(x_normal_train))) * 2\n",
    "\n",
    "yval_covid19 = np.zeros(len(x_covid19_val))\n",
    "yval_noncovid = np.ones(len(x_noncovid_val))\n",
    "yval_normal = np.ones(len(x_normal_val)) * 2\n",
    "\n",
    "ytest_covid19 = np.zeros(len(x_covid19_test))\n",
    "ytest_noncovid = np.ones(len(x_noncovid_test))\n",
    "ytest_normal = np.ones(len(x_normal_test)) * 2\n",
    "\n"
   ]
  },
  {
   "cell_type": "code",
   "execution_count": 27,
   "metadata": {},
   "outputs": [],
   "source": [
    "X_train=np.concatenate((x_covid19_train,x_noncovid_train,x_normal_train))\n",
    "y_train=np.concatenate((ytrain_covid19,ytrain_noncovid,ytrain_normal))\n",
    "X_val=np.concatenate((x_covid19_val,x_noncovid_val,x_normal_val))\n",
    "y_val=np.concatenate((yval_covid19,yval_noncovid,yval_normal))\n",
    "X_test=np.concatenate((x_covid19_test,x_noncovid_test,x_normal_test))\n",
    "y_test=np.concatenate((ytest_covid19,ytest_noncovid,ytest_normal))"
   ]
  },
  {
   "cell_type": "code",
   "execution_count": null,
   "metadata": {},
   "outputs": [],
   "source": [
    "# Data Augmentation\n",
    "from keras.preprocessing.image import ImageDataGenerator\n",
    "BATCH_SIZE = 16\n",
    "\n",
    "train_generator = ImageDataGenerator(\n",
    "        zoom_range=2,  # set range for random zoom\n",
    "        rotation_range = 90,\n",
    "        horizontal_flip=True,  # randomly flip images\n",
    "        vertical_flip=True,  # randomly flip images\n",
    "    )"
   ]
  },
  {
   "cell_type": "code",
   "execution_count": null,
   "metadata": {},
   "outputs": [],
   "source": [
    "X_train.shape\n",
    "X_val.shape\n",
    "y_train.shape\n",
    "y_val.shape"
   ]
  },
  {
   "cell_type": "code",
   "execution_count": 28,
   "metadata": {},
   "outputs": [],
   "source": [
    "from keras.utils import to_categorical\n",
    "y_train = to_categorical(y_train, num_classes=3)\n",
    "y_val = to_categorical(y_val, num_classes=3)\n",
    "y_test = to_categorical(y_test, num_classes=3)"
   ]
  },
  {
   "cell_type": "code",
   "execution_count": 29,
   "metadata": {},
   "outputs": [
    {
     "name": "stdout",
     "output_type": "stream",
     "text": [
      "Model: \"sequential_1\"\n",
      "_________________________________________________________________\n",
      " Layer (type)                Output Shape              Param #   \n",
      "=================================================================\n",
      " conv2d_10 (Conv2D)          (None, 222, 222, 16)      160       \n",
      "                                                                 \n",
      " batch_normalization (BatchN  (None, 222, 222, 16)     64        \n",
      " ormalization)                                                   \n",
      "                                                                 \n",
      " conv2d_11 (Conv2D)          (None, 220, 220, 32)      4640      \n",
      "                                                                 \n",
      " max_pooling2d_6 (MaxPooling  (None, 110, 110, 32)     0         \n",
      " 2D)                                                             \n",
      "                                                                 \n",
      " dropout (Dropout)           (None, 110, 110, 32)      0         \n",
      "                                                                 \n",
      " conv2d_12 (Conv2D)          (None, 108, 108, 64)      18496     \n",
      "                                                                 \n",
      " batch_normalization_1 (Batc  (None, 108, 108, 64)     256       \n",
      " hNormalization)                                                 \n",
      "                                                                 \n",
      " conv2d_13 (Conv2D)          (None, 106, 106, 128)     73856     \n",
      "                                                                 \n",
      " max_pooling2d_7 (MaxPooling  (None, 53, 53, 128)      0         \n",
      " 2D)                                                             \n",
      "                                                                 \n",
      " dropout_1 (Dropout)         (None, 53, 53, 128)       0         \n",
      "                                                                 \n",
      " flatten_2 (Flatten)         (None, 359552)            0         \n",
      "                                                                 \n",
      " dense_2 (Dense)             (None, 64)                23011392  \n",
      "                                                                 \n",
      " dense_3 (Dense)             (None, 3)                 195       \n",
      "                                                                 \n",
      "=================================================================\n",
      "Total params: 23,109,059\n",
      "Trainable params: 23,108,899\n",
      "Non-trainable params: 160\n",
      "_________________________________________________________________\n"
     ]
    }
   ],
   "source": [
    "#CNN\n",
    "\n",
    "from keras.models import Sequential\n",
    "from keras.layers import Conv2D, MaxPooling2D, Flatten, Dense,BatchNormalization,Dropout\n",
    "from keras.utils import to_categorical\n",
    "\n",
    "# Define the model\n",
    "model = Sequential()\n",
    "\n",
    "# Add convolutional layer(s)\n",
    "model.add(Conv2D(16, (3, 3), activation='relu', input_shape=(224, 224, 1)))\n",
    "model.add(BatchNormalization())\n",
    "model.add(Conv2D(32, (3, 3), activation='relu', input_shape=(224, 224, 1)))\n",
    "model.add(MaxPooling2D((2, 2)))\n",
    "model.add(Dropout(0.2))\n",
    "model.add(Conv2D(64, (3, 3), activation='relu'))\n",
    "model.add(BatchNormalization())\n",
    "model.add(Conv2D(128, (3, 3), activation='relu'))\n",
    "model.add(MaxPooling2D((2, 2)))\n",
    "model.add(Dropout(0.2))\n",
    "\n",
    "# Flatten the output from convolutional layers\n",
    "model.add(Flatten())\n",
    "\n",
    "# Add a dense layer for classification\n",
    "model.add(Dense(64, activation='relu'))\n",
    "model.add(Dense(3, activation='softmax'))\n",
    "\n",
    "# Compile the model\n",
    "model.compile(optimizer='adam', loss='categorical_crossentropy', metrics=['accuracy'])\n",
    "\n",
    "# Print the model summary\n",
    "model.summary()"
   ]
  },
  {
   "cell_type": "code",
   "execution_count": null,
   "metadata": {},
   "outputs": [],
   "source": [
    "#CNN LSTM\n",
    "\n",
    "from keras.models import Sequential\n",
    "from keras.layers import Conv2D, MaxPooling2D, Flatten, Dense, LSTM, TimeDistributed\n",
    "from keras.utils import to_categorical\n",
    "# Define the model\n",
    "model = Sequential()\n",
    "\n",
    "# Add convolutional layer(s)\n",
    "model.add(Conv2D(32, (3, 3), activation='relu', input_shape=(224, 224, 1)))\n",
    "model.add(MaxPooling2D((2, 2)))\n",
    "model.add(Conv2D(64, (3, 3), activation='relu'))\n",
    "model.add(MaxPooling2D((2, 2)))\n",
    "model.add(Conv2D(128, (3, 3), activation='relu'))\n",
    "model.add(MaxPooling2D((2, 2)))\n",
    "\n",
    "# Add a TimeDistributed layer with LSTM\n",
    "model.add(TimeDistributed(Flatten()))\n",
    "model.add(LSTM(64, activation='tanh', return_sequences=True))\n",
    "model.add(Flatten())\n",
    "\n",
    "# Add a dense layer for classification\n",
    "model.add(Dense(64, activation='relu'))\n",
    "model.add(Dense(3, activation='softmax'))\n",
    "\n",
    "# Compile the model\n",
    "model.compile(optimizer='adam', loss='categorical_crossentropy', metrics=['accuracy'])\n",
    "\n",
    "# Print the model summary\n",
    "model.summary()"
   ]
  },
  {
   "cell_type": "code",
   "execution_count": 31,
   "metadata": {},
   "outputs": [
    {
     "name": "stdout",
     "output_type": "stream",
     "text": [
      "Epoch 1/10\n",
      "679/679 [==============================] - 1852s 3s/step - loss: 2.6686 - accuracy: 0.3466 - val_loss: 1.0977 - val_accuracy: 0.3513\n",
      "Epoch 2/10\n",
      "679/679 [==============================] - 12270s 18s/step - loss: 1.0977 - accuracy: 0.3527 - val_loss: 1.0977 - val_accuracy: 0.3513\n",
      "Epoch 3/10\n",
      " 87/679 [==>...........................] - ETA: 47:02 - loss: 1.0971 - accuracy: 0.3570"
     ]
    }
   ],
   "source": [
    "# Fit the model to the training data\n",
    "history = model.fit(X_train, y_train, epochs=10, batch_size=32, validation_data=(X_val, y_val))\n",
    "\n",
    "# Evaluate the model on the test data\n",
    "test_loss, test_acc = model.evaluate(X_test, y_test)\n",
    "print('Test accuracy:', test_acc)\n",
    "\n",
    "# Make predictions on the test data\n",
    "y_pred = model.predict(X_test)\n",
    "\n",
    "# Convert the predictions from one-hot encoded vectors to class labels\n",
    "y_pred_labels = np.argmax(y_pred, axis=1)\n",
    "\n",
    "# Print some sample predictions\n",
    "print('Sample predictions:')\n",
    "for i in range(10):\n",
    "    print('Actual:', np.argmax(y_test[i]), 'Predicted:', y_pred_labels[i])\n"
   ]
  },
  {
   "cell_type": "code",
   "execution_count": null,
   "metadata": {},
   "outputs": [],
   "source": [
    "#Auto Encoder\n",
    "\n",
    "from keras.models import Model\n",
    "from keras.layers import Conv2D, MaxPooling2D, UpSampling2D, Input\n",
    "\n",
    "# Define the encoder\n",
    "input_img = Input(shape=(224, 224, 1))\n",
    "x = Conv2D(32, (3, 3), activation='relu', padding='same')(input_img)\n",
    "x = MaxPooling2D((2, 2), padding='same')(x)\n",
    "x = Conv2D(64, (3, 3), activation='relu', padding='same')(x)\n",
    "x = MaxPooling2D((2, 2), padding='same')(x)\n",
    "x = Conv2D(128, (3, 3), activation='relu', padding='same')(x)\n",
    "encoded = MaxPooling2D((2, 2), padding='same')(x)\n",
    "encoded_shape = encoded.shape[1:] # Get the shape of the encoded representation\n",
    "\n",
    "# Define the decoder\n",
    "x = Conv2D(128, (3, 3), activation='relu', padding='same')(encoded)\n",
    "x = UpSampling2D((2, 2))(x)\n",
    "x = Conv2D(64, (3, 3), activation='relu', padding='same')(x)\n",
    "x = UpSampling2D((2, 2))(x)\n",
    "x = Conv2D(32, (3, 3), activation='relu', padding='same')(x)\n",
    "x = UpSampling2D((2, 2))(x)\n",
    "decoded = Conv2D(1, (3, 3), activation='sigmoid', padding='same')(x)\n",
    "\n",
    "# Combine the encoder and decoder into an autoencoder\n",
    "autoencoder = Model(input_img, decoded)\n",
    "\n",
    "# Compile the autoencoder\n",
    "autoencoder.compile(optimizer='adam', loss='binary_crossentropy')\n",
    "\n",
    "# Train the autoencoder\n",
    "autoencoder.fit(X_train, X_train, epochs=10, batch_size=32, validation_data=(X_val, X_val))\n",
    "\n",
    "# Extract the encoded features\n",
    "encoder = Model(input_img, encoded)\n",
    "X_train_encoded = encoder.predict(X_train)\n",
    "X_val_encoded = encoder.predict(X_val)\n",
    "X_test_encoded = encoder.predict(X_test)\n",
    "\n",
    "# Add a dense layer for classification\n",
    "model = Sequential()\n",
    "model.add(Dense(64, activation='relu', input_dim=encoded_shape))\n",
    "model.add(Dense(3, activation='softmax'))\n",
    "\n",
    "# Compile the model\n",
    "model.compile(optimizer='adam', loss='categorical_crossentropy', metrics=['accuracy'])\n",
    "\n",
    "# Fit the model to the training data\n",
    "history = model.fit(X_train_encoded, y_train, epochs=10, batch_size=32, validation_data=(X_val_encoded, y_val))\n",
    "\n",
    "# Evaluate the model on the test data\n",
    "test_loss, test_acc = model.evaluate(X_test_encoded, y_test)\n",
    "print('Test accuracy:', test_acc)\n",
    "\n",
    "# Make predictions on the test data\n",
    "y_pred = model.predict(X_test_encoded)\n",
    "\n",
    "# Convert the predictions from one-hot encoded vectors to class labels\n",
    "y_pred_labels = np.argmax(y_pred, axis=1)\n",
    "\n",
    "# Print some sample predictions\n",
    "print('Sample predictions:')\n",
    "for i in range(10):\n",
    "    print('Actual:', np.argmax(y_test[i]), 'Predicted:', y_pred_labels[i])\n"
   ]
  },
  {
   "cell_type": "code",
   "execution_count": null,
   "metadata": {},
   "outputs": [],
   "source": [
    "# Evaluate the model on the test data\n",
    "test_loss, test_acc = model.evaluate(X_test_encoded, y_test)\n",
    "print('Test accuracy:', test_acc)\n",
    "\n",
    "# Make predictions on the test data\n",
    "y_pred = model.predict(X_test_encoded)\n",
    "\n",
    "# Convert the predictions from one-hot encoded vectors to class labels\n",
    "y_pred_labels = np.argmax(y_pred, axis=1)\n",
    "\n",
    "# Print some sample predictions\n",
    "print('Sample predictions:')\n",
    "for i in range(10):\n",
    "    print('Actual:', np.argmax(y_test[i]), 'Predicted:', y_pred_labels[i])"
   ]
  },
  {
   "cell_type": "code",
   "execution_count": null,
   "metadata": {},
   "outputs": [],
   "source": [
    "import matplotlib.pyplot as plt\n",
    "import numpy as np\n",
    "\n",
    "# Select a sample from the test set\n",
    "sample_idx = 1\n",
    "sample = X_test[sample_idx]\n",
    "true_label = np.argmax(y_test[sample_idx])\n",
    "\n",
    "# Make a prediction on the sample\n",
    "pred = model.predict(np.expand_dims(sample, axis=0))[0]\n",
    "pred_label = np.argmax(pred)\n",
    "\n",
    "# Plot the sample and its predicted label\n",
    "fig, (ax1, ax2) = plt.subplots(1, 2, figsize=(10, 5))\n",
    "ax1.imshow(sample.squeeze(), cmap='gray')\n",
    "ax1.axis('off')\n",
    "ax1.set_title('Sample Image')\n",
    "ax2.bar(range(3), pred)\n",
    "ax2.set_xticks(range(3))\n",
    "ax2.set_xticklabels(['Covid', 'Non-Covid', 'Normal'])\n",
    "ax2.set_title('Predicted Class Probabilities')\n",
    "ax2.set_ylim([0, 1])\n",
    "ax2.set_xlabel('Class')\n",
    "ax2.set_ylabel('Probability')\n",
    "plt.show()\n",
    "\n",
    "print('True label:', true_label)\n",
    "print('Predicted label:', pred_label)\n"
   ]
  },
  {
   "cell_type": "code",
   "execution_count": null,
   "metadata": {},
   "outputs": [],
   "source": [
    "\n",
    "# Plot the training, validation, and test accuracy\n",
    "plt.plot(history.history['accuracy'])\n",
    "plt.plot(history.history['val_accuracy'])\n",
    "plt.title('Model Accuracy')\n",
    "plt.xlabel('Epoch')\n",
    "plt.ylabel('Accuracy')\n",
    "plt.legend(['Train', 'Val'], loc='upper left')\n",
    "plt.show()\n",
    "\n",
    "# Plot the training, validation, and test loss\n",
    "plt.plot(history.history['loss'])\n",
    "plt.plot(history.history['val_loss'])\n",
    "plt.title('Model Loss')\n",
    "plt.xlabel('Epoch')\n",
    "plt.ylabel('Loss')\n",
    "plt.legend(['Train', 'Val'], loc='upper left')\n",
    "plt.show()\n"
   ]
  },
  {
   "cell_type": "code",
   "execution_count": null,
   "metadata": {},
   "outputs": [],
   "source": [
    "import itertools\n",
    "from sklearn.metrics import confusion_matrix\n",
    "import matplotlib.pyplot as plt\n",
    "\n",
    "# Convert test set labels to class labels\n",
    "y_true_labels = np.argmax(y_test, axis=1)\n",
    "\n",
    "# Compute confusion matrix\n",
    "confusion_mtx = confusion_matrix(y_true_labels, y_pred_labels)\n",
    "\n",
    "# Define class labels\n",
    "class_names = ['Covid', 'Non Covid', 'Normal']\n",
    "\n",
    "# Plot confusion matrix\n",
    "plt.imshow(confusion_mtx, interpolation='nearest', cmap=plt.cm.Blues)\n",
    "plt.title('Confusion Matrix')\n",
    "plt.colorbar()\n",
    "tick_marks = np.arange(len(class_names))\n",
    "plt.xticks(tick_marks, class_names, rotation=45)\n",
    "plt.yticks(tick_marks, class_names)\n",
    "fmt = 'd'\n",
    "thresh = confusion_mtx.max() / 2.\n",
    "for i, j in itertools.product(range(confusion_mtx.shape[0]), range(confusion_mtx.shape[1])):\n",
    "    plt.text(j, i, format(confusion_mtx[i, j], fmt),\n",
    "             horizontalalignment=\"center\",\n",
    "             color=\"white\" if confusion_mtx[i, j] > thresh else \"black\")\n",
    "plt.tight_layout()\n",
    "plt.ylabel('True label')\n",
    "plt.xlabel('Predicted label')\n",
    "plt.show()\n"
   ]
  }
 ],
 "metadata": {
  "kernelspec": {
   "display_name": "Python 3",
   "language": "python",
   "name": "python3"
  },
  "language_info": {
   "codemirror_mode": {
    "name": "ipython",
    "version": 3
   },
   "file_extension": ".py",
   "mimetype": "text/x-python",
   "name": "python",
   "nbconvert_exporter": "python",
   "pygments_lexer": "ipython3",
   "version": "3.10.11"
  },
  "orig_nbformat": 4
 },
 "nbformat": 4,
 "nbformat_minor": 2
}
